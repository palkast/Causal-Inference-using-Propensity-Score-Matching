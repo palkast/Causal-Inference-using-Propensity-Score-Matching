{
 "cells": [
  {
   "cell_type": "code",
   "execution_count": null,
   "id": "2ba47889",
   "metadata": {},
   "outputs": [],
   "source": [
    "#propensity score matching :\n",
    "So, we can define:\n",
    "\n",
    "Control group: deals without the minimal requirement\n",
    "Treatment group: deals with minimal requirement\n",
    "We are interested in:\n",
    "\n",
    "Does having the minimal requirement affect the deal outcomes, such as revenue, quantity sold, and Facebook likes received?\n",
    "Finding two deals from different groups with exact matches across different features, such as price, coupon_duration, featured or not, etc. would be very difficult if not impossible.\n",
    "\n",
    "Therefore, we need to use propensity score matching.\n"
   ]
  },
  {
   "cell_type": "code",
   "execution_count": 1,
   "id": "d3ef5196",
   "metadata": {},
   "outputs": [],
   "source": [
    "# load packages\n",
    "import numpy as np\n",
    "import pandas as pd\n",
    "import matplotlib.pyplot as plt\n",
    "import seaborn as sns\n",
    "import math\n",
    "sns.set()  # set the style"
   ]
  },
  {
   "cell_type": "code",
   "execution_count": 2,
   "id": "fc7a9878",
   "metadata": {},
   "outputs": [
    {
     "name": "stdout",
     "output_type": "stream",
     "text": [
      "<class 'pandas.core.frame.DataFrame'>\n",
      "RangeIndex: 710 entries, 0 to 709\n",
      "Data columns (total 13 columns):\n",
      " #   Column           Non-Null Count  Dtype \n",
      "---  ------           --------------  ----- \n",
      " 0   deal_id          710 non-null    object\n",
      " 1   start_date       710 non-null    object\n",
      " 2   min_req          710 non-null    int64 \n",
      " 3   treatment        710 non-null    int64 \n",
      " 4   prom_length      710 non-null    int64 \n",
      " 5   price            710 non-null    int64 \n",
      " 6   discount_pct     710 non-null    int64 \n",
      " 7   coupon_duration  710 non-null    int64 \n",
      " 8   featured         710 non-null    int64 \n",
      " 9   limited_supply   710 non-null    int64 \n",
      " 10  fb_likes         710 non-null    int64 \n",
      " 11  quantity_sold    710 non-null    int64 \n",
      " 12  revenue          710 non-null    int64 \n",
      "dtypes: int64(11), object(2)\n",
      "memory usage: 72.2+ KB\n"
     ]
    }
   ],
   "source": [
    "# read data\n",
    "df = pd.read_csv('groupon.csv')\n",
    "df.info()"
   ]
  },
  {
   "cell_type": "code",
   "execution_count": 3,
   "id": "f83aa4cc",
   "metadata": {},
   "outputs": [
    {
     "data": {
      "text/html": [
       "<div>\n",
       "<style scoped>\n",
       "    .dataframe tbody tr th:only-of-type {\n",
       "        vertical-align: middle;\n",
       "    }\n",
       "\n",
       "    .dataframe tbody tr th {\n",
       "        vertical-align: top;\n",
       "    }\n",
       "\n",
       "    .dataframe thead th {\n",
       "        text-align: right;\n",
       "    }\n",
       "</style>\n",
       "<table border=\"1\" class=\"dataframe\">\n",
       "  <thead>\n",
       "    <tr style=\"text-align: right;\">\n",
       "      <th></th>\n",
       "      <th>deal_id</th>\n",
       "      <th>start_date</th>\n",
       "      <th>min_req</th>\n",
       "      <th>treatment</th>\n",
       "      <th>prom_length</th>\n",
       "      <th>price</th>\n",
       "      <th>discount_pct</th>\n",
       "      <th>coupon_duration</th>\n",
       "      <th>featured</th>\n",
       "      <th>limited_supply</th>\n",
       "      <th>fb_likes</th>\n",
       "      <th>quantity_sold</th>\n",
       "      <th>revenue</th>\n",
       "    </tr>\n",
       "  </thead>\n",
       "  <tbody>\n",
       "    <tr>\n",
       "      <th>0</th>\n",
       "      <td>heli-flights</td>\n",
       "      <td>9/23/2011</td>\n",
       "      <td>10</td>\n",
       "      <td>1</td>\n",
       "      <td>4</td>\n",
       "      <td>99</td>\n",
       "      <td>51</td>\n",
       "      <td>185</td>\n",
       "      <td>1</td>\n",
       "      <td>1</td>\n",
       "      <td>290</td>\n",
       "      <td>540</td>\n",
       "      <td>53460</td>\n",
       "    </tr>\n",
       "    <tr>\n",
       "      <th>1</th>\n",
       "      <td>gl-champion-series-tennis-electric-factory</td>\n",
       "      <td>9/23/2011</td>\n",
       "      <td>20</td>\n",
       "      <td>1</td>\n",
       "      <td>2</td>\n",
       "      <td>95</td>\n",
       "      <td>41</td>\n",
       "      <td>9</td>\n",
       "      <td>0</td>\n",
       "      <td>1</td>\n",
       "      <td>43</td>\n",
       "      <td>190</td>\n",
       "      <td>18050</td>\n",
       "    </tr>\n",
       "    <tr>\n",
       "      <th>2</th>\n",
       "      <td>realm-of-terror-horror-experience</td>\n",
       "      <td>9/23/2011</td>\n",
       "      <td>50</td>\n",
       "      <td>1</td>\n",
       "      <td>3</td>\n",
       "      <td>25</td>\n",
       "      <td>50</td>\n",
       "      <td>38</td>\n",
       "      <td>0</td>\n",
       "      <td>1</td>\n",
       "      <td>208</td>\n",
       "      <td>380</td>\n",
       "      <td>9500</td>\n",
       "    </tr>\n",
       "    <tr>\n",
       "      <th>3</th>\n",
       "      <td>newport-gourmet</td>\n",
       "      <td>9/23/2011</td>\n",
       "      <td>15</td>\n",
       "      <td>1</td>\n",
       "      <td>3</td>\n",
       "      <td>50</td>\n",
       "      <td>50</td>\n",
       "      <td>369</td>\n",
       "      <td>0</td>\n",
       "      <td>1</td>\n",
       "      <td>16</td>\n",
       "      <td>90</td>\n",
       "      <td>4500</td>\n",
       "    </tr>\n",
       "    <tr>\n",
       "      <th>4</th>\n",
       "      <td>the-clayroom</td>\n",
       "      <td>9/23/2011</td>\n",
       "      <td>20</td>\n",
       "      <td>1</td>\n",
       "      <td>4</td>\n",
       "      <td>25</td>\n",
       "      <td>52</td>\n",
       "      <td>185</td>\n",
       "      <td>0</td>\n",
       "      <td>1</td>\n",
       "      <td>85</td>\n",
       "      <td>580</td>\n",
       "      <td>14500</td>\n",
       "    </tr>\n",
       "  </tbody>\n",
       "</table>\n",
       "</div>"
      ],
      "text/plain": [
       "                                      deal_id start_date  min_req  treatment  \\\n",
       "0                                heli-flights  9/23/2011       10          1   \n",
       "1  gl-champion-series-tennis-electric-factory  9/23/2011       20          1   \n",
       "2           realm-of-terror-horror-experience  9/23/2011       50          1   \n",
       "3                             newport-gourmet  9/23/2011       15          1   \n",
       "4                                the-clayroom  9/23/2011       20          1   \n",
       "\n",
       "   prom_length  price  discount_pct  coupon_duration  featured  \\\n",
       "0            4     99            51              185         1   \n",
       "1            2     95            41                9         0   \n",
       "2            3     25            50               38         0   \n",
       "3            3     50            50              369         0   \n",
       "4            4     25            52              185         0   \n",
       "\n",
       "   limited_supply  fb_likes  quantity_sold  revenue  \n",
       "0               1       290            540    53460  \n",
       "1               1        43            190    18050  \n",
       "2               1       208            380     9500  \n",
       "3               1        16             90     4500  \n",
       "4               1        85            580    14500  "
      ]
     },
     "execution_count": 3,
     "metadata": {},
     "output_type": "execute_result"
    }
   ],
   "source": [
    "df.head()"
   ]
  },
  {
   "cell_type": "code",
   "execution_count": 4,
   "id": "0cdb9e84",
   "metadata": {},
   "outputs": [
    {
     "data": {
      "text/html": [
       "<div>\n",
       "<style scoped>\n",
       "    .dataframe tbody tr th:only-of-type {\n",
       "        vertical-align: middle;\n",
       "    }\n",
       "\n",
       "    .dataframe tbody tr th {\n",
       "        vertical-align: top;\n",
       "    }\n",
       "\n",
       "    .dataframe thead th {\n",
       "        text-align: right;\n",
       "    }\n",
       "</style>\n",
       "<table border=\"1\" class=\"dataframe\">\n",
       "  <thead>\n",
       "    <tr style=\"text-align: right;\">\n",
       "      <th></th>\n",
       "      <th>min_req</th>\n",
       "      <th>prom_length</th>\n",
       "      <th>price</th>\n",
       "      <th>discount_pct</th>\n",
       "      <th>coupon_duration</th>\n",
       "      <th>featured</th>\n",
       "      <th>limited_supply</th>\n",
       "      <th>fb_likes</th>\n",
       "      <th>quantity_sold</th>\n",
       "      <th>revenue</th>\n",
       "    </tr>\n",
       "    <tr>\n",
       "      <th>treatment</th>\n",
       "      <th></th>\n",
       "      <th></th>\n",
       "      <th></th>\n",
       "      <th></th>\n",
       "      <th></th>\n",
       "      <th></th>\n",
       "      <th></th>\n",
       "      <th></th>\n",
       "      <th></th>\n",
       "      <th></th>\n",
       "    </tr>\n",
       "  </thead>\n",
       "  <tbody>\n",
       "    <tr>\n",
       "      <th>0</th>\n",
       "      <td>1.00000</td>\n",
       "      <td>3.809717</td>\n",
       "      <td>37.870445</td>\n",
       "      <td>52.973684</td>\n",
       "      <td>95.941296</td>\n",
       "      <td>0.105263</td>\n",
       "      <td>0.852227</td>\n",
       "      <td>77.941296</td>\n",
       "      <td>333.002024</td>\n",
       "      <td>9720.987854</td>\n",
       "    </tr>\n",
       "    <tr>\n",
       "      <th>1</th>\n",
       "      <td>26.50463</td>\n",
       "      <td>3.379630</td>\n",
       "      <td>29.421296</td>\n",
       "      <td>53.263889</td>\n",
       "      <td>131.842593</td>\n",
       "      <td>0.143519</td>\n",
       "      <td>0.777778</td>\n",
       "      <td>113.203704</td>\n",
       "      <td>509.351852</td>\n",
       "      <td>12750.694444</td>\n",
       "    </tr>\n",
       "  </tbody>\n",
       "</table>\n",
       "</div>"
      ],
      "text/plain": [
       "            min_req  prom_length      price  discount_pct  coupon_duration  \\\n",
       "treatment                                                                    \n",
       "0           1.00000     3.809717  37.870445     52.973684        95.941296   \n",
       "1          26.50463     3.379630  29.421296     53.263889       131.842593   \n",
       "\n",
       "           featured  limited_supply    fb_likes  quantity_sold       revenue  \n",
       "treatment                                                                     \n",
       "0          0.105263        0.852227   77.941296     333.002024   9720.987854  \n",
       "1          0.143519        0.777778  113.203704     509.351852  12750.694444  "
      ]
     },
     "execution_count": 4,
     "metadata": {},
     "output_type": "execute_result"
    }
   ],
   "source": [
    "# check the means for control and treatment\n",
    "df.groupby('treatment').mean()"
   ]
  },
  {
   "cell_type": "code",
   "execution_count": 5,
   "id": "4ae6af93",
   "metadata": {},
   "outputs": [],
   "source": [
    "# separate control and treatment for t-test\n",
    "df_control = df[df.treatment==0]\n",
    "df_treatment = df[df.treatment==1]"
   ]
  },
  {
   "cell_type": "code",
   "execution_count": 6,
   "id": "e0ebbda4",
   "metadata": {},
   "outputs": [
    {
     "name": "stdout",
     "output_type": "stream",
     "text": [
      "9720.987854251012 12750.694444444445\n",
      "p=0.040\n",
      "different distributions/different group mean (reject H0)\n"
     ]
    }
   ],
   "source": [
    "# student's t-test for revenue (dependent variable)\n",
    "from scipy.stats import ttest_ind\n",
    "\n",
    "print(df_control.revenue.mean(), df_treatment.revenue.mean())\n",
    "\n",
    "# compare samples\n",
    "_, p = ttest_ind(df_control.revenue, df_treatment.revenue)\n",
    "print(f'p={p:.3f}')\n",
    "\n",
    "# interpret\n",
    "alpha = 0.05  # significance level\n",
    "if p > alpha:\n",
    "    print('same distributions/same group mean (fail to reject H0 - we do not have enough evidence to reject H0)')\n",
    "else:\n",
    "    print('different distributions/different group mean (reject H0)')"
   ]
  },
  {
   "cell_type": "code",
   "execution_count": 7,
   "id": "20c04ae7",
   "metadata": {},
   "outputs": [
    {
     "name": "stdout",
     "output_type": "stream",
     "text": [
      "77.9412955465587 113.20370370370371\n",
      "p=0.004\n",
      "different distributions/different group mean (reject H0)\n"
     ]
    }
   ],
   "source": [
    "# student's t-test for facebook likes (dependent variable)\n",
    "from scipy.stats import ttest_ind\n",
    "\n",
    "print(df_control.fb_likes.mean(), df_treatment.fb_likes.mean())\n",
    "\n",
    "# compare samples\n",
    "_, p = ttest_ind(df_control.fb_likes, df_treatment.fb_likes)\n",
    "print(f'p={p:.3f}')\n",
    "\n",
    "# interpret\n",
    "alpha = 0.05  # significance level\n",
    "if p > alpha:\n",
    "    print('same distributions/same group mean (fail to reject H0 - we do not have enough evidence to reject H0)')\n",
    "else:\n",
    "    print('different distributions/different group mean (reject H0)')"
   ]
  },
  {
   "cell_type": "markdown",
   "id": "88c165ae",
   "metadata": {},
   "source": [
    "The propensity score definition is simple:\n",
    "\n",
    "propensity score is the probability for an observation (a deal in this case) to be in the treatment group\n",
    "\n",
    "The calculation of the propensity score can then be translated into a binary classification problem: given the features of a deal, classify each deal as 0 (without minimal requirement - control group) or 1 (with minimal requirement - treatment group).\n",
    "\n",
    "Two issues here:\n",
    "\n",
    "what model to use for classification: logistic regression is often used.\n",
    "what features to select: as we will illustrate later, the following features/variables should be excluded:\n",
    "features/variables that predict treatment status perfectly, such as min_req feature, which the treatment feature is directly derived from (see the code notebook for the result of adding min_req).\n",
    "features/variables that may be affected by the treatment\n",
    "So, we use prom_length, price, discount_pct, coupon_duration, featured, limited_supply features to train a logistic regression model to predict target variable treatment:"
   ]
  },
  {
   "cell_type": "code",
   "execution_count": 8,
   "id": "ee0bba20",
   "metadata": {},
   "outputs": [
    {
     "data": {
      "text/html": [
       "<div>\n",
       "<style scoped>\n",
       "    .dataframe tbody tr th:only-of-type {\n",
       "        vertical-align: middle;\n",
       "    }\n",
       "\n",
       "    .dataframe tbody tr th {\n",
       "        vertical-align: top;\n",
       "    }\n",
       "\n",
       "    .dataframe thead th {\n",
       "        text-align: right;\n",
       "    }\n",
       "</style>\n",
       "<table border=\"1\" class=\"dataframe\">\n",
       "  <thead>\n",
       "    <tr style=\"text-align: right;\">\n",
       "      <th></th>\n",
       "      <th>prom_length</th>\n",
       "      <th>price</th>\n",
       "      <th>discount_pct</th>\n",
       "      <th>coupon_duration</th>\n",
       "      <th>featured</th>\n",
       "      <th>limited_supply</th>\n",
       "    </tr>\n",
       "  </thead>\n",
       "  <tbody>\n",
       "    <tr>\n",
       "      <th>0</th>\n",
       "      <td>4</td>\n",
       "      <td>99</td>\n",
       "      <td>51</td>\n",
       "      <td>185</td>\n",
       "      <td>1</td>\n",
       "      <td>1</td>\n",
       "    </tr>\n",
       "    <tr>\n",
       "      <th>1</th>\n",
       "      <td>2</td>\n",
       "      <td>95</td>\n",
       "      <td>41</td>\n",
       "      <td>9</td>\n",
       "      <td>0</td>\n",
       "      <td>1</td>\n",
       "    </tr>\n",
       "    <tr>\n",
       "      <th>2</th>\n",
       "      <td>3</td>\n",
       "      <td>25</td>\n",
       "      <td>50</td>\n",
       "      <td>38</td>\n",
       "      <td>0</td>\n",
       "      <td>1</td>\n",
       "    </tr>\n",
       "    <tr>\n",
       "      <th>3</th>\n",
       "      <td>3</td>\n",
       "      <td>50</td>\n",
       "      <td>50</td>\n",
       "      <td>369</td>\n",
       "      <td>0</td>\n",
       "      <td>1</td>\n",
       "    </tr>\n",
       "    <tr>\n",
       "      <th>4</th>\n",
       "      <td>4</td>\n",
       "      <td>25</td>\n",
       "      <td>52</td>\n",
       "      <td>185</td>\n",
       "      <td>0</td>\n",
       "      <td>1</td>\n",
       "    </tr>\n",
       "  </tbody>\n",
       "</table>\n",
       "</div>"
      ],
      "text/plain": [
       "   prom_length  price  discount_pct  coupon_duration  featured  limited_supply\n",
       "0            4     99            51              185         1               1\n",
       "1            2     95            41                9         0               1\n",
       "2            3     25            50               38         0               1\n",
       "3            3     50            50              369         0               1\n",
       "4            4     25            52              185         0               1"
      ]
     },
     "execution_count": 8,
     "metadata": {},
     "output_type": "execute_result"
    }
   ],
   "source": [
    "# choose features for propensity score calculation\n",
    "X = df[['prom_length', 'price', 'discount_pct', 'coupon_duration', 'featured', 'limited_supply']]\n",
    "y = df['treatment']\n",
    "\n",
    "X.head()"
   ]
  },
  {
   "cell_type": "code",
   "execution_count": 9,
   "id": "2f378371",
   "metadata": {},
   "outputs": [
    {
     "data": {
      "text/plain": [
       "LogisticRegression()"
      ]
     },
     "execution_count": 9,
     "metadata": {},
     "output_type": "execute_result"
    }
   ],
   "source": [
    "# use logistic regression to calculate the propensity scores\n",
    "from sklearn.linear_model import LogisticRegression\n",
    "lr = LogisticRegression()\n",
    "lr.fit(X, y)"
   ]
  },
  {
   "cell_type": "code",
   "execution_count": 10,
   "id": "279343f3",
   "metadata": {},
   "outputs": [
    {
     "data": {
      "text/plain": [
       "array([-0.32837151, -0.00859709, -0.00794035,  0.00352025,  0.30799367,\n",
       "       -0.36649843])"
      ]
     },
     "execution_count": 10,
     "metadata": {},
     "output_type": "execute_result"
    }
   ],
   "source": [
    "# get the coefficients \n",
    "lr.coef_.ravel()  # or reshape(-1) refers to an unknown dimension, often used to flatten the array"
   ]
  },
  {
   "cell_type": "code",
   "execution_count": 11,
   "id": "52b5361d",
   "metadata": {},
   "outputs": [
    {
     "data": {
      "text/plain": [
       "array(['prom_length', 'price', 'discount_pct', 'coupon_duration',\n",
       "       'featured', 'limited_supply'], dtype=object)"
      ]
     },
     "execution_count": 11,
     "metadata": {},
     "output_type": "execute_result"
    }
   ],
   "source": [
    "# get the feature names\n",
    "X.columns.to_numpy()"
   ]
  },
  {
   "cell_type": "code",
   "execution_count": 12,
   "id": "3f2b22f5",
   "metadata": {},
   "outputs": [
    {
     "data": {
      "text/html": [
       "<div>\n",
       "<style scoped>\n",
       "    .dataframe tbody tr th:only-of-type {\n",
       "        vertical-align: middle;\n",
       "    }\n",
       "\n",
       "    .dataframe tbody tr th {\n",
       "        vertical-align: top;\n",
       "    }\n",
       "\n",
       "    .dataframe thead th {\n",
       "        text-align: right;\n",
       "    }\n",
       "</style>\n",
       "<table border=\"1\" class=\"dataframe\">\n",
       "  <thead>\n",
       "    <tr style=\"text-align: right;\">\n",
       "      <th></th>\n",
       "      <th>column</th>\n",
       "      <th>coeff</th>\n",
       "    </tr>\n",
       "  </thead>\n",
       "  <tbody>\n",
       "    <tr>\n",
       "      <th>0</th>\n",
       "      <td>prom_length</td>\n",
       "      <td>-0.328372</td>\n",
       "    </tr>\n",
       "    <tr>\n",
       "      <th>1</th>\n",
       "      <td>price</td>\n",
       "      <td>-0.008597</td>\n",
       "    </tr>\n",
       "    <tr>\n",
       "      <th>2</th>\n",
       "      <td>discount_pct</td>\n",
       "      <td>-0.007940</td>\n",
       "    </tr>\n",
       "    <tr>\n",
       "      <th>3</th>\n",
       "      <td>coupon_duration</td>\n",
       "      <td>0.003520</td>\n",
       "    </tr>\n",
       "    <tr>\n",
       "      <th>4</th>\n",
       "      <td>featured</td>\n",
       "      <td>0.307994</td>\n",
       "    </tr>\n",
       "    <tr>\n",
       "      <th>5</th>\n",
       "      <td>limited_supply</td>\n",
       "      <td>-0.366498</td>\n",
       "    </tr>\n",
       "  </tbody>\n",
       "</table>\n",
       "</div>"
      ],
      "text/plain": [
       "            column     coeff\n",
       "0      prom_length -0.328372\n",
       "1            price -0.008597\n",
       "2     discount_pct -0.007940\n",
       "3  coupon_duration  0.003520\n",
       "4         featured  0.307994\n",
       "5   limited_supply -0.366498"
      ]
     },
     "execution_count": 12,
     "metadata": {},
     "output_type": "execute_result"
    }
   ],
   "source": [
    "# combine features and coefficients into a dataframe\n",
    "coeffs = pd.DataFrame({\n",
    "    'column':X.columns.to_numpy(),\n",
    "    'coeff':lr.coef_.ravel(),\n",
    "})\n",
    "coeffs"
   ]
  },
  {
   "cell_type": "code",
   "execution_count": 13,
   "id": "efe85b66",
   "metadata": {},
   "outputs": [
    {
     "name": "stdout",
     "output_type": "stream",
     "text": [
      "the binary prediction is: 0\n",
      "the corresponding probabilities are: [0.74080761 0.25919239]\n"
     ]
    }
   ],
   "source": [
    "# prediction\n",
    "pred_binary = lr.predict(X)  # binary 0 control, 1, treatment\n",
    "pred_prob = lr.predict_proba(X)  # probabilities for classes\n",
    "\n",
    "print('the binary prediction is:', pred_binary[0])\n",
    "print('the corresponding probabilities are:', pred_prob[0])"
   ]
  },
  {
   "cell_type": "code",
   "execution_count": 14,
   "id": "a0302417",
   "metadata": {},
   "outputs": [
    {
     "data": {
      "text/html": [
       "<div>\n",
       "<style scoped>\n",
       "    .dataframe tbody tr th:only-of-type {\n",
       "        vertical-align: middle;\n",
       "    }\n",
       "\n",
       "    .dataframe tbody tr th {\n",
       "        vertical-align: top;\n",
       "    }\n",
       "\n",
       "    .dataframe thead th {\n",
       "        text-align: right;\n",
       "    }\n",
       "</style>\n",
       "<table border=\"1\" class=\"dataframe\">\n",
       "  <thead>\n",
       "    <tr style=\"text-align: right;\">\n",
       "      <th></th>\n",
       "      <th>deal_id</th>\n",
       "      <th>start_date</th>\n",
       "      <th>min_req</th>\n",
       "      <th>treatment</th>\n",
       "      <th>prom_length</th>\n",
       "      <th>price</th>\n",
       "      <th>discount_pct</th>\n",
       "      <th>coupon_duration</th>\n",
       "      <th>featured</th>\n",
       "      <th>limited_supply</th>\n",
       "      <th>fb_likes</th>\n",
       "      <th>quantity_sold</th>\n",
       "      <th>revenue</th>\n",
       "      <th>ps</th>\n",
       "      <th>ps_logit</th>\n",
       "    </tr>\n",
       "  </thead>\n",
       "  <tbody>\n",
       "    <tr>\n",
       "      <th>0</th>\n",
       "      <td>heli-flights</td>\n",
       "      <td>9/23/2011</td>\n",
       "      <td>10</td>\n",
       "      <td>1</td>\n",
       "      <td>4</td>\n",
       "      <td>99</td>\n",
       "      <td>51</td>\n",
       "      <td>185</td>\n",
       "      <td>1</td>\n",
       "      <td>1</td>\n",
       "      <td>290</td>\n",
       "      <td>540</td>\n",
       "      <td>53460</td>\n",
       "      <td>0.259192</td>\n",
       "      <td>-1.050170</td>\n",
       "    </tr>\n",
       "    <tr>\n",
       "      <th>1</th>\n",
       "      <td>gl-champion-series-tennis-electric-factory</td>\n",
       "      <td>9/23/2011</td>\n",
       "      <td>20</td>\n",
       "      <td>1</td>\n",
       "      <td>2</td>\n",
       "      <td>95</td>\n",
       "      <td>41</td>\n",
       "      <td>9</td>\n",
       "      <td>0</td>\n",
       "      <td>1</td>\n",
       "      <td>43</td>\n",
       "      <td>190</td>\n",
       "      <td>18050</td>\n",
       "      <td>0.230198</td>\n",
       "      <td>-1.207193</td>\n",
       "    </tr>\n",
       "    <tr>\n",
       "      <th>2</th>\n",
       "      <td>realm-of-terror-horror-experience</td>\n",
       "      <td>9/23/2011</td>\n",
       "      <td>50</td>\n",
       "      <td>1</td>\n",
       "      <td>3</td>\n",
       "      <td>25</td>\n",
       "      <td>50</td>\n",
       "      <td>38</td>\n",
       "      <td>0</td>\n",
       "      <td>1</td>\n",
       "      <td>208</td>\n",
       "      <td>380</td>\n",
       "      <td>9500</td>\n",
       "      <td>0.288405</td>\n",
       "      <td>-0.903144</td>\n",
       "    </tr>\n",
       "    <tr>\n",
       "      <th>3</th>\n",
       "      <td>newport-gourmet</td>\n",
       "      <td>9/23/2011</td>\n",
       "      <td>15</td>\n",
       "      <td>1</td>\n",
       "      <td>3</td>\n",
       "      <td>50</td>\n",
       "      <td>50</td>\n",
       "      <td>369</td>\n",
       "      <td>0</td>\n",
       "      <td>1</td>\n",
       "      <td>16</td>\n",
       "      <td>90</td>\n",
       "      <td>4500</td>\n",
       "      <td>0.511781</td>\n",
       "      <td>0.047131</td>\n",
       "    </tr>\n",
       "    <tr>\n",
       "      <th>4</th>\n",
       "      <td>the-clayroom</td>\n",
       "      <td>9/23/2011</td>\n",
       "      <td>20</td>\n",
       "      <td>1</td>\n",
       "      <td>4</td>\n",
       "      <td>25</td>\n",
       "      <td>52</td>\n",
       "      <td>185</td>\n",
       "      <td>0</td>\n",
       "      <td>1</td>\n",
       "      <td>85</td>\n",
       "      <td>580</td>\n",
       "      <td>14500</td>\n",
       "      <td>0.325212</td>\n",
       "      <td>-0.729920</td>\n",
       "    </tr>\n",
       "  </tbody>\n",
       "</table>\n",
       "</div>"
      ],
      "text/plain": [
       "                                      deal_id start_date  min_req  treatment  \\\n",
       "0                                heli-flights  9/23/2011       10          1   \n",
       "1  gl-champion-series-tennis-electric-factory  9/23/2011       20          1   \n",
       "2           realm-of-terror-horror-experience  9/23/2011       50          1   \n",
       "3                             newport-gourmet  9/23/2011       15          1   \n",
       "4                                the-clayroom  9/23/2011       20          1   \n",
       "\n",
       "   prom_length  price  discount_pct  coupon_duration  featured  \\\n",
       "0            4     99            51              185         1   \n",
       "1            2     95            41                9         0   \n",
       "2            3     25            50               38         0   \n",
       "3            3     50            50              369         0   \n",
       "4            4     25            52              185         0   \n",
       "\n",
       "   limited_supply  fb_likes  quantity_sold  revenue        ps  ps_logit  \n",
       "0               1       290            540    53460  0.259192 -1.050170  \n",
       "1               1        43            190    18050  0.230198 -1.207193  \n",
       "2               1       208            380     9500  0.288405 -0.903144  \n",
       "3               1        16             90     4500  0.511781  0.047131  \n",
       "4               1        85            580    14500  0.325212 -0.729920  "
      ]
     },
     "execution_count": 14,
     "metadata": {},
     "output_type": "execute_result"
    }
   ],
   "source": [
    "# the propensity score (ps) is the probability of being 1 (i.e., in the treatment group)\n",
    "df['ps'] = pred_prob[:, 1]\n",
    "\n",
    "# calculate the logit of the propensity score for matching if needed\n",
    "# I just use the propensity score to match in this tutorial\n",
    "def logit(p):\n",
    "    logit_value = math.log(p / (1-p))\n",
    "    return logit_value\n",
    "\n",
    "df['ps_logit'] = df.ps.apply(lambda x: logit(x))\n",
    "\n",
    "df.head()"
   ]
  },
  {
   "cell_type": "code",
   "execution_count": 15,
   "id": "7b2d7349",
   "metadata": {},
   "outputs": [
    {
     "data": {
      "text/plain": [
       "<AxesSubplot:xlabel='ps', ylabel='Count'>"
      ]
     },
     "execution_count": 15,
     "metadata": {},
     "output_type": "execute_result"
    },
    {
     "data": {
      "image/png": "[encoded data removed]",
      "text/plain": [
       "<Figure size 640x480 with 1 Axes>"
      ]
     },
     "metadata": {},
     "output_type": "display_data"
    }
   ],
   "source": [
    "# check the overlap of ps for control and treatment using histogram\n",
    "# if not much overlap, the matching won't work\n",
    "sns.histplot(data=df, x='ps', hue='treatment')  # multiple=\"dodge\" for "
   ]
  },
  {
   "cell_type": "code",
   "execution_count": 16,
   "id": "f42ffece",
   "metadata": {},
   "outputs": [],
   "source": [
    "# adding 'min_req' here makes matching not working - because treatment is derived from min_req\n",
    "# there is no overlap and thus matching will not work\n",
    "X1 = df[['min_req', 'prom_length', 'price', 'discount_pct', 'coupon_duration', 'featured','limited_supply']]\n",
    "y = df['treatment']"
   ]
  },
  {
   "cell_type": "code",
   "execution_count": 17,
   "id": "712f44ea",
   "metadata": {},
   "outputs": [
    {
     "data": {
      "text/plain": [
       "LogisticRegression(max_iter=1000)"
      ]
     },
     "execution_count": 17,
     "metadata": {},
     "output_type": "execute_result"
    }
   ],
   "source": [
    "# use logistic regression to calculate the propensity scores\n",
    "lr1 = LogisticRegression(max_iter=1000)\n",
    "lr1.fit(X1, y)\n"
   ]
  },
  {
   "cell_type": "code",
   "execution_count": 18,
   "id": "b23fa278",
   "metadata": {},
   "outputs": [
    {
     "data": {
      "text/plain": [
       "<AxesSubplot:xlabel='ps1', ylabel='Count'>"
      ]
     },
     "execution_count": 18,
     "metadata": {},
     "output_type": "execute_result"
    },
    {
     "data": {
      "image/png": "[encoded data removed]",
      "text/plain": [
       "<Figure size 640x480 with 1 Axes>"
      ]
     },
     "metadata": {},
     "output_type": "display_data"
    }
   ],
   "source": [
    "pred_prob1 = lr1.predict_proba(X1)  # probabilities for classes\n",
    "df['ps1'] = pred_prob1[:, 1]\n",
    "\n",
    "sns.histplot(data=df, x='ps1', hue='treatment')"
   ]
  },
  {
   "cell_type": "code",
   "execution_count": 19,
   "id": "544e9b2e",
   "metadata": {},
   "outputs": [
    {
     "data": {
      "text/plain": [
       "<AxesSubplot:xlabel='start_date', ylabel='revenue'>"
      ]
     },
     "execution_count": 19,
     "metadata": {},
     "output_type": "execute_result"
    },
    {
     "data": {
      "image/png": "[encoded data removed]",
      "text/plain": [
       "<Figure size 2000x1000 with 1 Axes>"
      ]
     },
     "metadata": {},
     "output_type": "display_data"
    }
   ],
   "source": [
    "# stating date can also determine treatment value for most cases\n",
    "# so we do not include it in the propensity score calculation\n",
    "df.start_date = pd.to_datetime(df.start_date)\n",
    "fig, ax = plt.subplots(figsize=(20, 10))\n",
    "sns.scatterplot(data=df, x='start_date', y='revenue', hue='treatment')"
   ]
  },
  {
   "cell_type": "code",
   "execution_count": 20,
   "id": "cc8d98e1",
   "metadata": {},
   "outputs": [
    {
     "data": {
      "text/plain": [
       "<AxesSubplot:xlabel='ps2', ylabel='Count'>"
      ]
     },
     "execution_count": 20,
     "metadata": {},
     "output_type": "execute_result"
    },
    {
     "data": {
      "image/png": "[encoded data removed]",
      "text/plain": [
       "<Figure size 640x480 with 1 Axes>"
      ]
     },
     "metadata": {},
     "output_type": "display_data"
    }
   ],
   "source": [
    "# adding 'starting_date' here via a `recency` feature\n",
    "# there is only little overlap resulting in not enough matched observations\n",
    "\n",
    "last_date = df.start_date.max()\n",
    "df['recency'] = (last_date - df.start_date).dt.days\n",
    "\n",
    "X2 = df[['recency', 'prom_length', 'price', 'discount_pct', 'coupon_duration', 'featured','limited_supply']]\n",
    "y = df['treatment']\n",
    "\n",
    "# use logistic regression to calculate the propensity scores\n",
    "lr2 = LogisticRegression(max_iter=1000)\n",
    "lr2.fit(X2, y)\n",
    "\n",
    "pred_prob2 = lr2.predict_proba(X2)  # probabilities for classes\n",
    "df['ps2'] = pred_prob2[:, 1]\n",
    "\n",
    "sns.histplot(data=df, x='ps2', hue='treatment')"
   ]
  },
  {
   "cell_type": "code",
   "execution_count": 21,
   "id": "fa719835",
   "metadata": {},
   "outputs": [
    {
     "name": "stdout",
     "output_type": "stream",
     "text": [
      "caliper (radius) is: 0.0304\n"
     ]
    },
    {
     "data": {
      "text/plain": [
       "NearestNeighbors(n_neighbors=10, radius=0.03037911375072893)"
      ]
     },
     "execution_count": 21,
     "metadata": {},
     "output_type": "execute_result"
    }
   ],
   "source": [
    "# use 25% of standard deviation of the propensity score as the caliper/radius\n",
    "# get the k closest neighbors for each observations\n",
    "# relax caliper and increase k can provide more matches\n",
    "\n",
    "from sklearn.neighbors import NearestNeighbors\n",
    "\n",
    "caliper = np.std(df.ps) * 0.25\n",
    "print(f'caliper (radius) is: {caliper:.4f}')\n",
    "\n",
    "n_neighbors = 10\n",
    "\n",
    "# setup knn\n",
    "knn = NearestNeighbors(n_neighbors=n_neighbors, radius=caliper)\n",
    "\n",
    "ps = df[['ps']]  # double brackets as a dataframe\n",
    "knn.fit(ps)"
   ]
  },
  {
   "cell_type": "code",
   "execution_count": 22,
   "id": "8ad6072e",
   "metadata": {},
   "outputs": [
    {
     "name": "stdout",
     "output_type": "stream",
     "text": [
      "(710, 10)\n",
      "[0.         0.00010794 0.00040663 0.00078185 0.0011584  0.00135221\n",
      " 0.00135221 0.00164925 0.00166948 0.00203841]\n",
      "[  0 348 388 415 624 494 150 463 372 345]\n"
     ]
    }
   ],
   "source": [
    "# distances and indexes\n",
    "distances, neighbor_indexes = knn.kneighbors(ps)\n",
    "\n",
    "print(neighbor_indexes.shape)\n",
    "\n",
    "# the 10 closest points to the first point\n",
    "print(distances[0])\n",
    "print(neighbor_indexes[0])"
   ]
  },
  {
   "cell_type": "code",
   "execution_count": 23,
   "id": "b792d1d0",
   "metadata": {},
   "outputs": [],
   "source": [
    "# for each point in treatment, we find a matching point in control without replacement\n",
    "# note the 10 neighbors may include both points in treatment and control\n",
    "\n",
    "matched_control = []  # keep track of the matched observations in control\n",
    "\n",
    "for current_index, row in df.iterrows():  # iterate over the dataframe\n",
    "    if row.treatment == 0:  # the current row is in the control group\n",
    "        df.loc[current_index, 'matched'] = np.nan  # set matched to nan\n",
    "    else: \n",
    "        for idx in neighbor_indexes[current_index, :]: # for each row in treatment, find the k neighbors\n",
    "            # make sure the current row is not the idx - don't match to itself\n",
    "            # and the neighbor is in the control \n",
    "            if (current_index != idx) and (df.loc[idx].treatment == 0):\n",
    "                if idx not in matched_control:  # this control has not been matched yet\n",
    "                    df.loc[current_index, 'matched'] = idx  # record the matching\n",
    "                    matched_control.append(idx)  # add the matched to the list\n",
    "                    break"
   ]
  },
  {
   "cell_type": "code",
   "execution_count": 24,
   "id": "1453af97",
   "metadata": {},
   "outputs": [
    {
     "name": "stdout",
     "output_type": "stream",
     "text": [
      "total observations in treatment: 216\n",
      "total matched observations in control: 185\n"
     ]
    }
   ],
   "source": [
    "# try to increase the number of neighbors and/or caliper to get more matches\n",
    "print('total observations in treatment:', len(df[df.treatment==1]))\n",
    "print('total matched observations in control:', len(matched_control))"
   ]
  },
  {
   "cell_type": "code",
   "execution_count": 25,
   "id": "b7138137",
   "metadata": {},
   "outputs": [
    {
     "data": {
      "text/plain": [
       "1    185\n",
       "0    185\n",
       "Name: treatment, dtype: int64"
      ]
     },
     "execution_count": 25,
     "metadata": {},
     "output_type": "execute_result"
    }
   ],
   "source": [
    "# control have no match\n",
    "treatment_matched = df.dropna(subset=['matched'])  # drop not matched\n",
    "\n",
    "# matched control observation indexes\n",
    "control_matched_idx = treatment_matched.matched\n",
    "control_matched_idx = control_matched_idx.astype(int)  # change to int\n",
    "control_matched = df.loc[control_matched_idx, :]  # select matched control observations\n",
    "\n",
    "# combine the matched treatment and control\n",
    "df_matched = pd.concat([treatment_matched, control_matched])\n",
    "\n",
    "df_matched.treatment.value_counts()"
   ]
  },
  {
   "cell_type": "code",
   "execution_count": 26,
   "id": "9a29d508",
   "metadata": {},
   "outputs": [],
   "source": [
    "# matched control and treatment\n",
    "df_matched_control = df_matched[df_matched.treatment==0]\n",
    "df_matched_treatment = df_matched[df_matched.treatment==1]"
   ]
  },
  {
   "cell_type": "markdown",
   "id": "f8f6af40",
   "metadata": {},
   "source": [
    "We can then conduct t-tests (see code notebook for details) for the dependent variables in the dataset before and after the match:\n",
    "\n",
    "for revenue (revenue), p-value changed from 0.04 to 0.051. 0.051 is not significant meaning that having minimal requirements does not change revenue."
   ]
  },
  {
   "cell_type": "code",
   "execution_count": 27,
   "id": "a0790da4",
   "metadata": {},
   "outputs": [
    {
     "name": "stdout",
     "output_type": "stream",
     "text": [
      "9146.783783783783 13275.405405405405\n",
      "p=0.051\n",
      "same distributions/same group mean (fail to reject H0 - we do not have enough evidence to reject H0)\n"
     ]
    }
   ],
   "source": [
    "# student's t-test for revenue (dependent variable) after matching\n",
    "# p value is not significant now\n",
    "from scipy.stats import ttest_ind\n",
    "print(df_matched_control.revenue.mean(), df_matched_treatment.revenue.mean())\n",
    "\n",
    "# compare samples\n",
    "_, p = ttest_ind(df_matched_control.revenue, df_matched_treatment.revenue)\n",
    "print(f'p={p:.3f}')\n",
    "\n",
    "# interpret\n",
    "alpha = 0.05  # significance level\n",
    "if p > alpha:\n",
    "    print('same distributions/same group mean (fail to reject H0 - we do not have enough evidence to reject H0)')\n",
    "else:\n",
    "    print('different distributions/different group mean (reject H0)')"
   ]
  },
  {
   "cell_type": "markdown",
   "id": "3c6aef96",
   "metadata": {},
   "source": [
    "for Facebook likes received (fb_likes), p-value changed from 0.004 to 0.002. Both are significant meaning that having the minimal requirement increases the facebook likes received."
   ]
  },
  {
   "cell_type": "code",
   "execution_count": 28,
   "id": "55af8fbc",
   "metadata": {},
   "outputs": [
    {
     "name": "stdout",
     "output_type": "stream",
     "text": [
      "68.0 115.75135135135135\n",
      "p=0.002\n",
      "different distributions/different group mean (reject H0)\n"
     ]
    }
   ],
   "source": [
    "# student's t-test for facebook likes(dependent variable) after matching\n",
    "# p value is smaller compared with before matching\n",
    "from scipy.stats import ttest_ind\n",
    "print(df_matched_control.fb_likes.mean(), df_matched_treatment.fb_likes.mean())\n",
    "\n",
    "# compare samples\n",
    "_, p = ttest_ind(df_matched_control.fb_likes, df_matched_treatment.fb_likes)\n",
    "print(f'p={p:.3f}')\n",
    "\n",
    "# interpret\n",
    "alpha = 0.05  # significance level\n",
    "if p > alpha:\n",
    "    print('same distributions/same group mean (fail to reject H0 - we do not have enough evidence to reject H0)')\n",
    "else:\n",
    "    print('different distributions/different group mean (reject H0)')"
   ]
  },
  {
   "cell_type": "code",
   "execution_count": 30,
   "id": "d64ce552",
   "metadata": {},
   "outputs": [],
   "source": [
    "# As an effect size, Cohen's d is typically used to represent the magnitude of differences between two (or more) groups on a given variable, with larger values representing a greater differentiation between the two groups on that variable.\n",
    "# we hope the effect sizes for features decrease after matching\n",
    "# adapted from https://machinelearningmastery.com/effect-size-measures-in-python/\n",
    "\n",
    "from numpy import mean\n",
    "from numpy import var\n",
    "from math import sqrt\n",
    " \n",
    "# function to calculate Cohen's d for independent samples\n",
    "def cohen_d(d1, d2):\n",
    "\t# calculate the size of samples\n",
    "\tn1, n2 = len(d1), len(d2)\n",
    "\t# calculate the variance of the samples\n",
    "\ts1, s2 = var(d1, ddof=1), var(d2, ddof=1)\n",
    "\t# calculate the pooled standard deviation\n",
    "\ts = sqrt(((n1 - 1) * s1 + (n2 - 1) * s2) / (n1 + n2 - 2))\n",
    "\t# calculate the means of the samples\n",
    "\tu1, u2 = mean(d1), mean(d2)\n",
    "\t# calculate the effect size\n",
    "\treturn (u1 - u2) / s"
   ]
  },
  {
   "cell_type": "markdown",
   "id": "00c3a845",
   "metadata": {},
   "source": [
    "One way to see the matching effect is to show the mean difference of the features from control vs. treatment groups before and after the match - we hope to decrease the differences via matching, i.e., the characteristics of the deals are more similar in both control and treatment groups after matching."
   ]
  },
  {
   "cell_type": "code",
   "execution_count": 31,
   "id": "a6b578fa",
   "metadata": {},
   "outputs": [],
   "source": [
    "effect_sizes = []\n",
    "cols = ['prom_length', 'price', 'discount_pct', 'coupon_duration', 'featured','limited_supply']\n",
    "\n",
    "for cl in cols:\n",
    "    _, p_before = ttest_ind(df_control[cl], df_treatment[cl])\n",
    "    _, p_after = ttest_ind(df_matched_control[cl], df_matched_treatment[cl])\n",
    "    cohen_d_before = cohen_d(df_treatment[cl], df_control[cl])\n",
    "    cohen_d_after = cohen_d(df_matched_treatment[cl], df_matched_control[cl])\n",
    "    effect_sizes.append([cl,'before', cohen_d_before, p_before])\n",
    "    effect_sizes.append([cl,'after', cohen_d_after, p_after])"
   ]
  },
  {
   "cell_type": "code",
   "execution_count": 32,
   "id": "9da854de",
   "metadata": {},
   "outputs": [
    {
     "data": {
      "text/html": [
       "<div>\n",
       "<style scoped>\n",
       "    .dataframe tbody tr th:only-of-type {\n",
       "        vertical-align: middle;\n",
       "    }\n",
       "\n",
       "    .dataframe tbody tr th {\n",
       "        vertical-align: top;\n",
       "    }\n",
       "\n",
       "    .dataframe thead th {\n",
       "        text-align: right;\n",
       "    }\n",
       "</style>\n",
       "<table border=\"1\" class=\"dataframe\">\n",
       "  <thead>\n",
       "    <tr style=\"text-align: right;\">\n",
       "      <th></th>\n",
       "      <th>feature</th>\n",
       "      <th>matching</th>\n",
       "      <th>effect_size</th>\n",
       "      <th>p-value</th>\n",
       "    </tr>\n",
       "  </thead>\n",
       "  <tbody>\n",
       "    <tr>\n",
       "      <th>0</th>\n",
       "      <td>prom_length</td>\n",
       "      <td>before</td>\n",
       "      <td>-0.328313</td>\n",
       "      <td>0.000063</td>\n",
       "    </tr>\n",
       "    <tr>\n",
       "      <th>1</th>\n",
       "      <td>prom_length</td>\n",
       "      <td>after</td>\n",
       "      <td>-0.055414</td>\n",
       "      <td>0.594388</td>\n",
       "    </tr>\n",
       "    <tr>\n",
       "      <th>2</th>\n",
       "      <td>price</td>\n",
       "      <td>before</td>\n",
       "      <td>-0.233573</td>\n",
       "      <td>0.004315</td>\n",
       "    </tr>\n",
       "    <tr>\n",
       "      <th>3</th>\n",
       "      <td>price</td>\n",
       "      <td>after</td>\n",
       "      <td>-0.004145</td>\n",
       "      <td>0.968225</td>\n",
       "    </tr>\n",
       "    <tr>\n",
       "      <th>4</th>\n",
       "      <td>discount_pct</td>\n",
       "      <td>before</td>\n",
       "      <td>0.035411</td>\n",
       "      <td>0.664344</td>\n",
       "    </tr>\n",
       "    <tr>\n",
       "      <th>5</th>\n",
       "      <td>discount_pct</td>\n",
       "      <td>after</td>\n",
       "      <td>0.118635</td>\n",
       "      <td>0.254612</td>\n",
       "    </tr>\n",
       "    <tr>\n",
       "      <th>6</th>\n",
       "      <td>coupon_duration</td>\n",
       "      <td>before</td>\n",
       "      <td>0.282300</td>\n",
       "      <td>0.000571</td>\n",
       "    </tr>\n",
       "    <tr>\n",
       "      <th>7</th>\n",
       "      <td>coupon_duration</td>\n",
       "      <td>after</td>\n",
       "      <td>-0.032618</td>\n",
       "      <td>0.753920</td>\n",
       "    </tr>\n",
       "    <tr>\n",
       "      <th>8</th>\n",
       "      <td>featured</td>\n",
       "      <td>before</td>\n",
       "      <td>0.119074</td>\n",
       "      <td>0.144802</td>\n",
       "    </tr>\n",
       "    <tr>\n",
       "      <th>9</th>\n",
       "      <td>featured</td>\n",
       "      <td>after</td>\n",
       "      <td>-0.030542</td>\n",
       "      <td>0.769122</td>\n",
       "    </tr>\n",
       "    <tr>\n",
       "      <th>10</th>\n",
       "      <td>limited_supply</td>\n",
       "      <td>before</td>\n",
       "      <td>-0.198547</td>\n",
       "      <td>0.015178</td>\n",
       "    </tr>\n",
       "    <tr>\n",
       "      <th>11</th>\n",
       "      <td>limited_supply</td>\n",
       "      <td>after</td>\n",
       "      <td>0.077935</td>\n",
       "      <td>0.454002</td>\n",
       "    </tr>\n",
       "  </tbody>\n",
       "</table>\n",
       "</div>"
      ],
      "text/plain": [
       "            feature matching  effect_size   p-value\n",
       "0       prom_length   before    -0.328313  0.000063\n",
       "1       prom_length    after    -0.055414  0.594388\n",
       "2             price   before    -0.233573  0.004315\n",
       "3             price    after    -0.004145  0.968225\n",
       "4      discount_pct   before     0.035411  0.664344\n",
       "5      discount_pct    after     0.118635  0.254612\n",
       "6   coupon_duration   before     0.282300  0.000571\n",
       "7   coupon_duration    after    -0.032618  0.753920\n",
       "8          featured   before     0.119074  0.144802\n",
       "9          featured    after    -0.030542  0.769122\n",
       "10   limited_supply   before    -0.198547  0.015178\n",
       "11   limited_supply    after     0.077935  0.454002"
      ]
     },
     "execution_count": 32,
     "metadata": {},
     "output_type": "execute_result"
    }
   ],
   "source": [
    "df_effect_sizes = pd.DataFrame(effect_sizes, columns=['feature', 'matching', 'effect_size', 'p-value'])\n",
    "df_effect_sizes"
   ]
  },
  {
   "cell_type": "code",
   "execution_count": 33,
   "id": "6cae244e",
   "metadata": {},
   "outputs": [
    {
     "data": {
      "text/plain": [
       "<AxesSubplot:xlabel='effect_size', ylabel='feature'>"
      ]
     },
     "execution_count": 33,
     "metadata": {},
     "output_type": "execute_result"
    },
    {
     "data": {
      "image/png": "[encoded data removed]",
      "text/plain": [
       "<Figure size 1500x500 with 1 Axes>"
      ]
     },
     "metadata": {},
     "output_type": "display_data"
    }
   ],
   "source": [
    "# discount_pct and featured are not significant, all other features are more balanced after matching\n",
    "fig, ax = plt.subplots(figsize=(15, 5))\n",
    "sns.barplot(data=df_effect_sizes, x='effect_size', y='feature', hue='matching', orient='h')"
   ]
  },
  {
   "cell_type": "code",
   "execution_count": 34,
   "id": "b85fbdf9",
   "metadata": {},
   "outputs": [
    {
     "name": "stdout",
     "output_type": "stream",
     "text": [
      "Collecting psmpy\n",
      "  Downloading psmpy-0.3.13-py3-none-any.whl (13 kB)\n",
      "Requirement already satisfied: seaborn in c:\\users\\kasturi\\anaconda3\\lib\\site-packages (from psmpy) (0.11.2)\n",
      "Requirement already satisfied: numpy in c:\\users\\kasturi\\anaconda3\\lib\\site-packages (from psmpy) (1.24.4)\n",
      "Requirement already satisfied: matplotlib in c:\\users\\kasturi\\anaconda3\\lib\\site-packages (from psmpy) (3.5.2)\n",
      "Requirement already satisfied: scipy in c:\\users\\kasturi\\anaconda3\\lib\\site-packages (from psmpy) (1.9.1)\n",
      "Requirement already satisfied: pandas in c:\\users\\kasturi\\anaconda3\\lib\\site-packages (from psmpy) (1.4.4)\n",
      "Requirement already satisfied: scikit-learn in c:\\users\\kasturi\\anaconda3\\lib\\site-packages (from psmpy) (1.0.2)\n",
      "Requirement already satisfied: packaging>=20.0 in c:\\users\\kasturi\\anaconda3\\lib\\site-packages (from matplotlib->psmpy) (21.3)\n",
      "Requirement already satisfied: cycler>=0.10 in c:\\users\\kasturi\\anaconda3\\lib\\site-packages (from matplotlib->psmpy) (0.11.0)\n",
      "Requirement already satisfied: fonttools>=4.22.0 in c:\\users\\kasturi\\anaconda3\\lib\\site-packages (from matplotlib->psmpy) (4.25.0)\n",
      "Requirement already satisfied: python-dateutil>=2.7 in c:\\users\\kasturi\\anaconda3\\lib\\site-packages (from matplotlib->psmpy) (2.8.2)\n",
      "Requirement already satisfied: pyparsing>=2.2.1 in c:\\users\\kasturi\\anaconda3\\lib\\site-packages (from matplotlib->psmpy) (3.0.9)\n",
      "Requirement already satisfied: pillow>=6.2.0 in c:\\users\\kasturi\\anaconda3\\lib\\site-packages (from matplotlib->psmpy) (9.2.0)\n",
      "Requirement already satisfied: kiwisolver>=1.0.1 in c:\\users\\kasturi\\anaconda3\\lib\\site-packages (from matplotlib->psmpy) (1.4.2)\n",
      "Requirement already satisfied: pytz>=2020.1 in c:\\users\\kasturi\\anaconda3\\lib\\site-packages (from pandas->psmpy) (2022.1)\n",
      "Requirement already satisfied: threadpoolctl>=2.0.0 in c:\\users\\kasturi\\anaconda3\\lib\\site-packages (from scikit-learn->psmpy) (2.2.0)\n",
      "Requirement already satisfied: joblib>=0.11 in c:\\users\\kasturi\\anaconda3\\lib\\site-packages (from scikit-learn->psmpy) (1.3.2)\n",
      "Requirement already satisfied: six>=1.5 in c:\\users\\kasturi\\anaconda3\\lib\\site-packages (from python-dateutil>=2.7->matplotlib->psmpy) (1.16.0)\n",
      "Installing collected packages: psmpy\n",
      "Successfully installed psmpy-0.3.13\n"
     ]
    }
   ],
   "source": [
    "!pip install psmpy"
   ]
  },
  {
   "cell_type": "code",
   "execution_count": 35,
   "id": "210b9a09",
   "metadata": {},
   "outputs": [],
   "source": [
    "from psmpy import PsmPy\n",
    "from psmpy.plotting import *"
   ]
  },
  {
   "cell_type": "code",
   "execution_count": 37,
   "id": "4e281bf3",
   "metadata": {},
   "outputs": [
    {
     "name": "stdout",
     "output_type": "stream",
     "text": [
      "<class 'pandas.core.frame.DataFrame'>\n",
      "RangeIndex: 710 entries, 0 to 709\n",
      "Data columns (total 13 columns):\n",
      " #   Column           Non-Null Count  Dtype \n",
      "---  ------           --------------  ----- \n",
      " 0   deal_id          710 non-null    object\n",
      " 1   start_date       710 non-null    object\n",
      " 2   min_req          710 non-null    int64 \n",
      " 3   treatment        710 non-null    int64 \n",
      " 4   prom_length      710 non-null    int64 \n",
      " 5   price            710 non-null    int64 \n",
      " 6   discount_pct     710 non-null    int64 \n",
      " 7   coupon_duration  710 non-null    int64 \n",
      " 8   featured         710 non-null    int64 \n",
      " 9   limited_supply   710 non-null    int64 \n",
      " 10  fb_likes         710 non-null    int64 \n",
      " 11  quantity_sold    710 non-null    int64 \n",
      " 12  revenue          710 non-null    int64 \n",
      "dtypes: int64(11), object(2)\n",
      "memory usage: 72.2+ KB\n"
     ]
    }
   ],
   "source": [
    "df_psmpy = pd.read_csv('groupon.csv')\n",
    "df_psmpy.info()"
   ]
  },
  {
   "cell_type": "code",
   "execution_count": 38,
   "id": "8ea5ca16",
   "metadata": {},
   "outputs": [],
   "source": [
    "# exclude: ignore any covariates (columns) passed to the it during model fitting\n",
    "# indx - required parameter that references a unique ID number for each case\n",
    "psm = PsmPy(df_psmpy, treatment='treatment', indx='deal_id', exclude = ['min_req', 'start_date', 'fb_likes', 'quantity_sold', 'revenue'])"
   ]
  },
  {
   "cell_type": "code",
   "execution_count": 39,
   "id": "9c15c1f4",
   "metadata": {},
   "outputs": [
    {
     "data": {
      "text/html": [
       "<div>\n",
       "<style scoped>\n",
       "    .dataframe tbody tr th:only-of-type {\n",
       "        vertical-align: middle;\n",
       "    }\n",
       "\n",
       "    .dataframe tbody tr th {\n",
       "        vertical-align: top;\n",
       "    }\n",
       "\n",
       "    .dataframe thead th {\n",
       "        text-align: right;\n",
       "    }\n",
       "</style>\n",
       "<table border=\"1\" class=\"dataframe\">\n",
       "  <thead>\n",
       "    <tr style=\"text-align: right;\">\n",
       "      <th></th>\n",
       "      <th>deal_id</th>\n",
       "      <th>prom_length</th>\n",
       "      <th>price</th>\n",
       "      <th>discount_pct</th>\n",
       "      <th>coupon_duration</th>\n",
       "      <th>featured</th>\n",
       "      <th>limited_supply</th>\n",
       "      <th>propensity_score</th>\n",
       "      <th>propensity_logit</th>\n",
       "      <th>treatment</th>\n",
       "    </tr>\n",
       "  </thead>\n",
       "  <tbody>\n",
       "    <tr>\n",
       "      <th>0</th>\n",
       "      <td>3rd-coast-cruising-1</td>\n",
       "      <td>3</td>\n",
       "      <td>75</td>\n",
       "      <td>50</td>\n",
       "      <td>378</td>\n",
       "      <td>1</td>\n",
       "      <td>1</td>\n",
       "      <td>0.541488</td>\n",
       "      <td>0.166333</td>\n",
       "      <td>0</td>\n",
       "    </tr>\n",
       "    <tr>\n",
       "      <th>1</th>\n",
       "      <td>516-skydive-new-york</td>\n",
       "      <td>7</td>\n",
       "      <td>145</td>\n",
       "      <td>39</td>\n",
       "      <td>170</td>\n",
       "      <td>0</td>\n",
       "      <td>1</td>\n",
       "      <td>0.063623</td>\n",
       "      <td>-2.689036</td>\n",
       "      <td>0</td>\n",
       "    </tr>\n",
       "    <tr>\n",
       "      <th>2</th>\n",
       "      <td>92nd-st-y-nyc</td>\n",
       "      <td>3</td>\n",
       "      <td>29</td>\n",
       "      <td>82</td>\n",
       "      <td>125</td>\n",
       "      <td>0</td>\n",
       "      <td>0</td>\n",
       "      <td>0.392219</td>\n",
       "      <td>-0.437994</td>\n",
       "      <td>0</td>\n",
       "    </tr>\n",
       "    <tr>\n",
       "      <th>3</th>\n",
       "      <td>above-all-cruises-ny</td>\n",
       "      <td>4</td>\n",
       "      <td>39</td>\n",
       "      <td>51</td>\n",
       "      <td>207</td>\n",
       "      <td>0</td>\n",
       "      <td>1</td>\n",
       "      <td>0.317265</td>\n",
       "      <td>-0.766371</td>\n",
       "      <td>0</td>\n",
       "    </tr>\n",
       "    <tr>\n",
       "      <th>4</th>\n",
       "      <td>adaptive-adventures</td>\n",
       "      <td>3</td>\n",
       "      <td>10</td>\n",
       "      <td>0</td>\n",
       "      <td>5</td>\n",
       "      <td>0</td>\n",
       "      <td>1</td>\n",
       "      <td>0.321258</td>\n",
       "      <td>-0.747996</td>\n",
       "      <td>0</td>\n",
       "    </tr>\n",
       "    <tr>\n",
       "      <th>...</th>\n",
       "      <td>...</td>\n",
       "      <td>...</td>\n",
       "      <td>...</td>\n",
       "      <td>...</td>\n",
       "      <td>...</td>\n",
       "      <td>...</td>\n",
       "      <td>...</td>\n",
       "      <td>...</td>\n",
       "      <td>...</td>\n",
       "      <td>...</td>\n",
       "    </tr>\n",
       "    <tr>\n",
       "      <th>705</th>\n",
       "      <td>gl-windy-city-circus-1</td>\n",
       "      <td>4</td>\n",
       "      <td>20</td>\n",
       "      <td>50</td>\n",
       "      <td>5</td>\n",
       "      <td>0</td>\n",
       "      <td>1</td>\n",
       "      <td>0.212691</td>\n",
       "      <td>-1.308780</td>\n",
       "      <td>1</td>\n",
       "    </tr>\n",
       "    <tr>\n",
       "      <th>706</th>\n",
       "      <td>lets-go-paragliding</td>\n",
       "      <td>6</td>\n",
       "      <td>99</td>\n",
       "      <td>58</td>\n",
       "      <td>73</td>\n",
       "      <td>0</td>\n",
       "      <td>1</td>\n",
       "      <td>0.083981</td>\n",
       "      <td>-2.389441</td>\n",
       "      <td>1</td>\n",
       "    </tr>\n",
       "    <tr>\n",
       "      <th>707</th>\n",
       "      <td>spare-time-chicago-3</td>\n",
       "      <td>4</td>\n",
       "      <td>12</td>\n",
       "      <td>74</td>\n",
       "      <td>166</td>\n",
       "      <td>0</td>\n",
       "      <td>0</td>\n",
       "      <td>0.392404</td>\n",
       "      <td>-0.437220</td>\n",
       "      <td>1</td>\n",
       "    </tr>\n",
       "    <tr>\n",
       "      <th>708</th>\n",
       "      <td>dc-gmt-slice-chicago-tours</td>\n",
       "      <td>7</td>\n",
       "      <td>22</td>\n",
       "      <td>51</td>\n",
       "      <td>106</td>\n",
       "      <td>0</td>\n",
       "      <td>1</td>\n",
       "      <td>0.128638</td>\n",
       "      <td>-1.913052</td>\n",
       "      <td>1</td>\n",
       "    </tr>\n",
       "    <tr>\n",
       "      <th>709</th>\n",
       "      <td>slice-of-chicago-pizza-tours-3</td>\n",
       "      <td>3</td>\n",
       "      <td>22</td>\n",
       "      <td>51</td>\n",
       "      <td>83</td>\n",
       "      <td>0</td>\n",
       "      <td>1</td>\n",
       "      <td>0.322159</td>\n",
       "      <td>-0.743866</td>\n",
       "      <td>1</td>\n",
       "    </tr>\n",
       "  </tbody>\n",
       "</table>\n",
       "<p>710 rows × 10 columns</p>\n",
       "</div>"
      ],
      "text/plain": [
       "                            deal_id  prom_length  price  discount_pct  \\\n",
       "0              3rd-coast-cruising-1            3     75            50   \n",
       "1              516-skydive-new-york            7    145            39   \n",
       "2                     92nd-st-y-nyc            3     29            82   \n",
       "3              above-all-cruises-ny            4     39            51   \n",
       "4               adaptive-adventures            3     10             0   \n",
       "..                              ...          ...    ...           ...   \n",
       "705          gl-windy-city-circus-1            4     20            50   \n",
       "706             lets-go-paragliding            6     99            58   \n",
       "707            spare-time-chicago-3            4     12            74   \n",
       "708      dc-gmt-slice-chicago-tours            7     22            51   \n",
       "709  slice-of-chicago-pizza-tours-3            3     22            51   \n",
       "\n",
       "     coupon_duration  featured  limited_supply  propensity_score  \\\n",
       "0                378         1               1          0.541488   \n",
       "1                170         0               1          0.063623   \n",
       "2                125         0               0          0.392219   \n",
       "3                207         0               1          0.317265   \n",
       "4                  5         0               1          0.321258   \n",
       "..               ...       ...             ...               ...   \n",
       "705                5         0               1          0.212691   \n",
       "706               73         0               1          0.083981   \n",
       "707              166         0               0          0.392404   \n",
       "708              106         0               1          0.128638   \n",
       "709               83         0               1          0.322159   \n",
       "\n",
       "     propensity_logit  treatment  \n",
       "0            0.166333          0  \n",
       "1           -2.689036          0  \n",
       "2           -0.437994          0  \n",
       "3           -0.766371          0  \n",
       "4           -0.747996          0  \n",
       "..                ...        ...  \n",
       "705         -1.308780          1  \n",
       "706         -2.389441          1  \n",
       "707         -0.437220          1  \n",
       "708         -1.913052          1  \n",
       "709         -0.743866          1  \n",
       "\n",
       "[710 rows x 10 columns]"
      ]
     },
     "execution_count": 39,
     "metadata": {},
     "output_type": "execute_result"
    }
   ],
   "source": [
    "# same as my code using balance=False\n",
    "psm.logistic_ps(balance=False)\n",
    "psm.predicted_data"
   ]
  },
  {
   "cell_type": "code",
   "execution_count": 40,
   "id": "27c2923d",
   "metadata": {},
   "outputs": [
    {
     "name": "stderr",
     "output_type": "stream",
     "text": [
      "C:\\Users\\Kasturi\\anaconda3\\lib\\site-packages\\psmpy\\psmpy.py:363: UserWarning: Some values do not have a match. These are dropped for purposes of establishing a matched dataframe, and subsequent calculations and plots (effect size). If you do not wish this to be the case please set drop_unmatched=False\n",
      "  warnings.warn('Some values do not have a match. These are dropped for purposes of establishing a matched dataframe, and subsequent calculations and plots (effect size). If you do not wish this to be the case please set drop_unmatched=False')\n"
     ]
    }
   ],
   "source": [
    "psm.knn_matched(matcher='propensity_logit', replacement=False, caliper=None)"
   ]
  },
  {
   "cell_type": "code",
   "execution_count": 41,
   "id": "728a6225",
   "metadata": {},
   "outputs": [
    {
     "data": {
      "image/png": "[encoded data removed]",
      "text/plain": [
       "<Figure size 1000x800 with 1 Axes>"
      ]
     },
     "metadata": {},
     "output_type": "display_data"
    }
   ],
   "source": [
    "psm.plot_match(Title='Matching Result', Ylabel='# of obs', Xlabel= 'propensity logit', names = ['treatment', 'control'])\n"
   ]
  },
  {
   "cell_type": "code",
   "execution_count": 42,
   "id": "0112253e",
   "metadata": {},
   "outputs": [
    {
     "data": {
      "image/png": "[encoded data removed]",
      "text/plain": [
       "<Figure size 1000x800 with 1 Axes>"
      ]
     },
     "metadata": {},
     "output_type": "display_data"
    }
   ],
   "source": [
    "psm.effect_size_plot()"
   ]
  },
  {
   "cell_type": "code",
   "execution_count": 43,
   "id": "9aa3d1c8",
   "metadata": {},
   "outputs": [
    {
     "data": {
      "text/html": [
       "<div>\n",
       "<style scoped>\n",
       "    .dataframe tbody tr th:only-of-type {\n",
       "        vertical-align: middle;\n",
       "    }\n",
       "\n",
       "    .dataframe tbody tr th {\n",
       "        vertical-align: top;\n",
       "    }\n",
       "\n",
       "    .dataframe thead th {\n",
       "        text-align: right;\n",
       "    }\n",
       "</style>\n",
       "<table border=\"1\" class=\"dataframe\">\n",
       "  <thead>\n",
       "    <tr style=\"text-align: right;\">\n",
       "      <th></th>\n",
       "      <th>Variable</th>\n",
       "      <th>matching</th>\n",
       "      <th>Effect Size</th>\n",
       "    </tr>\n",
       "  </thead>\n",
       "  <tbody>\n",
       "    <tr>\n",
       "      <th>0</th>\n",
       "      <td>prom_length</td>\n",
       "      <td>before</td>\n",
       "      <td>0.328313</td>\n",
       "    </tr>\n",
       "    <tr>\n",
       "      <th>1</th>\n",
       "      <td>prom_length</td>\n",
       "      <td>after</td>\n",
       "      <td>0.045102</td>\n",
       "    </tr>\n",
       "    <tr>\n",
       "      <th>2</th>\n",
       "      <td>price</td>\n",
       "      <td>before</td>\n",
       "      <td>0.233573</td>\n",
       "    </tr>\n",
       "    <tr>\n",
       "      <th>3</th>\n",
       "      <td>price</td>\n",
       "      <td>after</td>\n",
       "      <td>0.076804</td>\n",
       "    </tr>\n",
       "    <tr>\n",
       "      <th>4</th>\n",
       "      <td>discount_pct</td>\n",
       "      <td>before</td>\n",
       "      <td>0.035411</td>\n",
       "    </tr>\n",
       "    <tr>\n",
       "      <th>5</th>\n",
       "      <td>discount_pct</td>\n",
       "      <td>after</td>\n",
       "      <td>0.027746</td>\n",
       "    </tr>\n",
       "    <tr>\n",
       "      <th>6</th>\n",
       "      <td>coupon_duration</td>\n",
       "      <td>before</td>\n",
       "      <td>0.282300</td>\n",
       "    </tr>\n",
       "    <tr>\n",
       "      <th>7</th>\n",
       "      <td>coupon_duration</td>\n",
       "      <td>after</td>\n",
       "      <td>0.169019</td>\n",
       "    </tr>\n",
       "    <tr>\n",
       "      <th>8</th>\n",
       "      <td>featured</td>\n",
       "      <td>before</td>\n",
       "      <td>0.119074</td>\n",
       "    </tr>\n",
       "    <tr>\n",
       "      <th>9</th>\n",
       "      <td>featured</td>\n",
       "      <td>after</td>\n",
       "      <td>0.065908</td>\n",
       "    </tr>\n",
       "    <tr>\n",
       "      <th>10</th>\n",
       "      <td>limited_supply</td>\n",
       "      <td>before</td>\n",
       "      <td>0.198547</td>\n",
       "    </tr>\n",
       "    <tr>\n",
       "      <th>11</th>\n",
       "      <td>limited_supply</td>\n",
       "      <td>after</td>\n",
       "      <td>0.046427</td>\n",
       "    </tr>\n",
       "  </tbody>\n",
       "</table>\n",
       "</div>"
      ],
      "text/plain": [
       "           Variable matching  Effect Size\n",
       "0       prom_length   before     0.328313\n",
       "1       prom_length    after     0.045102\n",
       "2             price   before     0.233573\n",
       "3             price    after     0.076804\n",
       "4      discount_pct   before     0.035411\n",
       "5      discount_pct    after     0.027746\n",
       "6   coupon_duration   before     0.282300\n",
       "7   coupon_duration    after     0.169019\n",
       "8          featured   before     0.119074\n",
       "9          featured    after     0.065908\n",
       "10   limited_supply   before     0.198547\n",
       "11   limited_supply    after     0.046427"
      ]
     },
     "execution_count": 43,
     "metadata": {},
     "output_type": "execute_result"
    }
   ],
   "source": [
    "psm.effect_size"
   ]
  },
  {
   "cell_type": "code",
   "execution_count": 45,
   "id": "c98df18b",
   "metadata": {},
   "outputs": [
    {
     "data": {
      "text/html": [
       "<div>\n",
       "<style scoped>\n",
       "    .dataframe tbody tr th:only-of-type {\n",
       "        vertical-align: middle;\n",
       "    }\n",
       "\n",
       "    .dataframe tbody tr th {\n",
       "        vertical-align: top;\n",
       "    }\n",
       "\n",
       "    .dataframe thead th {\n",
       "        text-align: right;\n",
       "    }\n",
       "</style>\n",
       "<table border=\"1\" class=\"dataframe\">\n",
       "  <thead>\n",
       "    <tr style=\"text-align: right;\">\n",
       "      <th></th>\n",
       "      <th>deal_id</th>\n",
       "      <th>prom_length</th>\n",
       "      <th>price</th>\n",
       "      <th>discount_pct</th>\n",
       "      <th>coupon_duration</th>\n",
       "      <th>featured</th>\n",
       "      <th>limited_supply</th>\n",
       "      <th>propensity_score</th>\n",
       "      <th>propensity_logit</th>\n",
       "      <th>treatment</th>\n",
       "      <th>matched_ID</th>\n",
       "    </tr>\n",
       "  </thead>\n",
       "  <tbody>\n",
       "    <tr>\n",
       "      <th>0</th>\n",
       "      <td>heli-flights</td>\n",
       "      <td>4</td>\n",
       "      <td>99</td>\n",
       "      <td>51</td>\n",
       "      <td>185</td>\n",
       "      <td>1</td>\n",
       "      <td>1</td>\n",
       "      <td>0.263701</td>\n",
       "      <td>-1.026818</td>\n",
       "      <td>1</td>\n",
       "      <td>gl-second-stage-theatre</td>\n",
       "    </tr>\n",
       "    <tr>\n",
       "      <th>1</th>\n",
       "      <td>gl-champion-series-tennis-electric-factory</td>\n",
       "      <td>2</td>\n",
       "      <td>95</td>\n",
       "      <td>41</td>\n",
       "      <td>9</td>\n",
       "      <td>0</td>\n",
       "      <td>1</td>\n",
       "      <td>0.218561</td>\n",
       "      <td>-1.274072</td>\n",
       "      <td>1</td>\n",
       "      <td>luna-park-at-coney-island-3</td>\n",
       "    </tr>\n",
       "    <tr>\n",
       "      <th>2</th>\n",
       "      <td>realm-of-terror-horror-experience</td>\n",
       "      <td>3</td>\n",
       "      <td>25</td>\n",
       "      <td>50</td>\n",
       "      <td>38</td>\n",
       "      <td>0</td>\n",
       "      <td>1</td>\n",
       "      <td>0.284296</td>\n",
       "      <td>-0.923251</td>\n",
       "      <td>1</td>\n",
       "      <td>gl-stripped-the-play</td>\n",
       "    </tr>\n",
       "    <tr>\n",
       "      <th>3</th>\n",
       "      <td>newport-gourmet</td>\n",
       "      <td>3</td>\n",
       "      <td>50</td>\n",
       "      <td>50</td>\n",
       "      <td>369</td>\n",
       "      <td>0</td>\n",
       "      <td>1</td>\n",
       "      <td>0.505683</td>\n",
       "      <td>0.022734</td>\n",
       "      <td>1</td>\n",
       "      <td>created-by-you</td>\n",
       "    </tr>\n",
       "    <tr>\n",
       "      <th>4</th>\n",
       "      <td>the-clayroom</td>\n",
       "      <td>4</td>\n",
       "      <td>25</td>\n",
       "      <td>52</td>\n",
       "      <td>185</td>\n",
       "      <td>0</td>\n",
       "      <td>1</td>\n",
       "      <td>0.325569</td>\n",
       "      <td>-0.728293</td>\n",
       "      <td>1</td>\n",
       "      <td>sportations-nyc-1</td>\n",
       "    </tr>\n",
       "    <tr>\n",
       "      <th>...</th>\n",
       "      <td>...</td>\n",
       "      <td>...</td>\n",
       "      <td>...</td>\n",
       "      <td>...</td>\n",
       "      <td>...</td>\n",
       "      <td>...</td>\n",
       "      <td>...</td>\n",
       "      <td>...</td>\n",
       "      <td>...</td>\n",
       "      <td>...</td>\n",
       "      <td>...</td>\n",
       "    </tr>\n",
       "    <tr>\n",
       "      <th>426</th>\n",
       "      <td>gl-chicago-wolves-1</td>\n",
       "      <td>4</td>\n",
       "      <td>18</td>\n",
       "      <td>53</td>\n",
       "      <td>3</td>\n",
       "      <td>0</td>\n",
       "      <td>1</td>\n",
       "      <td>0.212703</td>\n",
       "      <td>-1.308711</td>\n",
       "      <td>0</td>\n",
       "      <td>NaN</td>\n",
       "    </tr>\n",
       "    <tr>\n",
       "      <th>427</th>\n",
       "      <td>canlan-ice-sports-6</td>\n",
       "      <td>4</td>\n",
       "      <td>148</td>\n",
       "      <td>51</td>\n",
       "      <td>8</td>\n",
       "      <td>0</td>\n",
       "      <td>1</td>\n",
       "      <td>0.084488</td>\n",
       "      <td>-2.382875</td>\n",
       "      <td>0</td>\n",
       "      <td>NaN</td>\n",
       "    </tr>\n",
       "    <tr>\n",
       "      <th>428</th>\n",
       "      <td>gl-at-comcast-center</td>\n",
       "      <td>3</td>\n",
       "      <td>24</td>\n",
       "      <td>49</td>\n",
       "      <td>65</td>\n",
       "      <td>1</td>\n",
       "      <td>1</td>\n",
       "      <td>0.378997</td>\n",
       "      <td>-0.493807</td>\n",
       "      <td>0</td>\n",
       "      <td>NaN</td>\n",
       "    </tr>\n",
       "    <tr>\n",
       "      <th>429</th>\n",
       "      <td>seabreeze-charter-2</td>\n",
       "      <td>3</td>\n",
       "      <td>180</td>\n",
       "      <td>50</td>\n",
       "      <td>126</td>\n",
       "      <td>0</td>\n",
       "      <td>1</td>\n",
       "      <td>0.127306</td>\n",
       "      <td>-1.924996</td>\n",
       "      <td>0</td>\n",
       "      <td>NaN</td>\n",
       "    </tr>\n",
       "    <tr>\n",
       "      <th>430</th>\n",
       "      <td>amf-new-york</td>\n",
       "      <td>4</td>\n",
       "      <td>15</td>\n",
       "      <td>64</td>\n",
       "      <td>75</td>\n",
       "      <td>0</td>\n",
       "      <td>0</td>\n",
       "      <td>0.321275</td>\n",
       "      <td>-0.747918</td>\n",
       "      <td>0</td>\n",
       "      <td>NaN</td>\n",
       "    </tr>\n",
       "  </tbody>\n",
       "</table>\n",
       "<p>431 rows × 11 columns</p>\n",
       "</div>"
      ],
      "text/plain": [
       "                                        deal_id  prom_length  price  \\\n",
       "0                                  heli-flights            4     99   \n",
       "1    gl-champion-series-tennis-electric-factory            2     95   \n",
       "2             realm-of-terror-horror-experience            3     25   \n",
       "3                               newport-gourmet            3     50   \n",
       "4                                  the-clayroom            4     25   \n",
       "..                                          ...          ...    ...   \n",
       "426                         gl-chicago-wolves-1            4     18   \n",
       "427                         canlan-ice-sports-6            4    148   \n",
       "428                        gl-at-comcast-center            3     24   \n",
       "429                         seabreeze-charter-2            3    180   \n",
       "430                                amf-new-york            4     15   \n",
       "\n",
       "     discount_pct  coupon_duration  featured  limited_supply  \\\n",
       "0              51              185         1               1   \n",
       "1              41                9         0               1   \n",
       "2              50               38         0               1   \n",
       "3              50              369         0               1   \n",
       "4              52              185         0               1   \n",
       "..            ...              ...       ...             ...   \n",
       "426            53                3         0               1   \n",
       "427            51                8         0               1   \n",
       "428            49               65         1               1   \n",
       "429            50              126         0               1   \n",
       "430            64               75         0               0   \n",
       "\n",
       "     propensity_score  propensity_logit  treatment  \\\n",
       "0            0.263701         -1.026818          1   \n",
       "1            0.218561         -1.274072          1   \n",
       "2            0.284296         -0.923251          1   \n",
       "3            0.505683          0.022734          1   \n",
       "4            0.325569         -0.728293          1   \n",
       "..                ...               ...        ...   \n",
       "426          0.212703         -1.308711          0   \n",
       "427          0.084488         -2.382875          0   \n",
       "428          0.378997         -0.493807          0   \n",
       "429          0.127306         -1.924996          0   \n",
       "430          0.321275         -0.747918          0   \n",
       "\n",
       "                      matched_ID  \n",
       "0        gl-second-stage-theatre  \n",
       "1    luna-park-at-coney-island-3  \n",
       "2           gl-stripped-the-play  \n",
       "3                 created-by-you  \n",
       "4              sportations-nyc-1  \n",
       "..                           ...  \n",
       "426                          NaN  \n",
       "427                          NaN  \n",
       "428                          NaN  \n",
       "429                          NaN  \n",
       "430                          NaN  \n",
       "\n",
       "[431 rows x 11 columns]"
      ]
     },
     "execution_count": 45,
     "metadata": {},
     "output_type": "execute_result"
    }
   ],
   "source": [
    "psm.df_matched"
   ]
  },
  {
   "cell_type": "code",
   "execution_count": 46,
   "id": "973a5bba",
   "metadata": {},
   "outputs": [],
   "source": [
    "# matched control and treatment\n",
    "df_matched_control = df_matched[df_matched.treatment==0]\n",
    "df_matched_treatment = df_matched[df_matched.treatment==1]"
   ]
  },
  {
   "cell_type": "code",
   "execution_count": 47,
   "id": "af6eb8f6",
   "metadata": {},
   "outputs": [
    {
     "name": "stdout",
     "output_type": "stream",
     "text": [
      "68.0 115.75135135135135\n",
      "p=0.002\n",
      "different distributions/different group mean (reject H0)\n"
     ]
    }
   ],
   "source": [
    "# student's t-test for facebook likes(dependent variable) after matching\n",
    "# p value is smaller compared with before matching\n",
    "from scipy.stats import ttest_ind\n",
    "print(df_matched_control.fb_likes.mean(), df_matched_treatment.fb_likes.mean())\n",
    "\n",
    "# compare samples\n",
    "_, p = ttest_ind(df_matched_control.fb_likes, df_matched_treatment.fb_likes)\n",
    "print(f'p={p:.3f}')\n",
    "\n",
    "# interpret\n",
    "alpha = 0.05  # significance level\n",
    "if p > alpha:\n",
    "    print('same distributions/same group mean (fail to reject H0 - we do not have enough evidence to reject H0)')\n",
    "else:\n",
    "    print('different distributions/different group mean (reject H0)')"
   ]
  },
  {
   "cell_type": "markdown",
   "id": "8dd4e34f",
   "metadata": {},
   "source": [
    "for Facebook likes received (fb_likes), p-value changed from 0.004 to 0.002. Both are significant meaning that having the minimal requirement increases the facebook likes received."
   ]
  },
  {
   "cell_type": "markdown",
   "id": "af5d8919",
   "metadata": {},
   "source": [
    "So the causal relationship is established.By matching we aare able to reduce the differences between treatment and control groups and if t.test result is statistically significant then two groups are different and the treatment minimal requirement increases facebook likes /outcome."
   ]
  }
 ],
 "metadata": {
  "kernelspec": {
   "display_name": "Python 3 (ipykernel)",
   "language": "python",
   "name": "python3"
  },
  "language_info": {
   "codemirror_mode": {
    "name": "ipython",
    "version": 3
   },
   "file_extension": ".py",
   "mimetype": "text/x-python",
   "name": "python",
   "nbconvert_exporter": "python",
   "pygments_lexer": "ipython3",
   "version": "3.9.13"
  }
 },
 "nbformat": 4,
 "nbformat_minor": 5
}
